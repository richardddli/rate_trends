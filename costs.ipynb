{
 "cells": [
  {
   "cell_type": "markdown",
   "metadata": {},
   "source": [
    "# Data Compiling & Cleaning"
   ]
  },
  {
   "cell_type": "markdown",
   "metadata": {},
   "source": [
    "We compiled monthly data from EIA's [Average Price of Electricity to Customers](https://www.eia.gov/electricity/monthly/epm_table_grapher.php?t=epmt_5_6_a), from Oct 2003 to Sept 2018. The rate breakdown by customer class is available (resi/comm/industrial), but currently we are just looking at the All Sectors average.\n",
    "\n",
    "The full dataset for all 50 states over these 15 years can be found [here](figs/full data.csv)."
   ]
  },
  {
   "cell_type": "markdown",
   "metadata": {},
   "source": [
    "# Seasonality"
   ]
  },
  {
   "cell_type": "markdown",
   "metadata": {},
   "source": [
    "In most states, electricity rates oscillate on a seasonal basis. Some states, such as Iowa, vary significantly more than others, such as Kentucky."
   ]
  },
  {
   "cell_type": "markdown",
   "metadata": {},
   "source": [
    "![Iowa](figs/graphs/Iowa.png)"
   ]
  },
  {
   "cell_type": "markdown",
   "metadata": {
    "collapsed": true
   },
   "source": [
    "In order to compare the trends in rates across different states, we need to remove this seasonality component. We use a time series decomposition to decompose the trend, seasonality, and residual (noise) for each state:"
   ]
  },
  {
   "cell_type": "code",
   "execution_count": null,
   "metadata": {
    "collapsed": false,
    "scrolled": true
   },
   "outputs": [],
   "source": [
    "from statsmodels.tsa.seasonal import seasonal_decompose\n",
    "s = seasonal_decompose(df.loc[state], model='additive')\n",
    "s.plot()"
   ]
  },
  {
   "cell_type": "markdown",
   "metadata": {},
   "source": [
    "![Iowa](figs/decomp/Iowa.png)"
   ]
  },
  {
   "cell_type": "markdown",
   "metadata": {},
   "source": [
    "As shown above for Iowa, the observed data can be broken down into a general trend, a repeating seasonal oscillation, and a residual. From this we can tell:\n",
    "* Iowa's rates have been steadily increasing over time.\n",
    "* Rates predictably peak in the summer every year, costing about 2 cents more than in the winter.\n",
    "* There is more variability in rates in recent years (2016 onwards)."
   ]
  },
  {
   "cell_type": "markdown",
   "metadata": {
    "collapsed": true
   },
   "source": [
    "# Trends across States"
   ]
  },
  {
   "cell_type": "markdown",
   "metadata": {},
   "source": [
    "We take the \"Trend\" components for each state from the decomposition, and compare against the US state average:\n",
    "\n",
    "![summary](figs/summary.png)"
   ]
  },
  {
   "cell_type": "markdown",
   "metadata": {},
   "source": [
    "As shown above, the Appalachian states generally have lower rates than the rest of the US, but all have been increasing steadily. Indiana and Kentucky show similar growth patterns, while West Virginia has a very different trajectory (why?). We look at a few time periods:\n",
    "\n",
    "* 2004 – 2009: Many states saw a surge in rates around 2008, Appalachian states included, likely due to the oil crisis. Iowa and WV seemed to be least affected during this time period.\n",
    "* 2010 – 2013: Rates were stagnant in most US states, but rates in Appalachian states continued to grow, rising 7-15% over this time period, compared to just 1% nationally.\n",
    "* 2014 – 2018: After a slight increase in 2013, most US states again saw stagnant rates. Appalachian rates continued to grow, increasing 4-17% over this period, compared to just 1% nationally.\n",
    "\n",
    "Since 2010, rates have increased:\n",
    "* Kentucky & Indiana: 30%\n",
    "* West Virginia: 27%\n",
    "* Iowa: 22%\n",
    "* US Average: 8%\n",
    "\n",
    "__This seems to suggest that Appalachian rates are increasing at a faster rate than the national average. However, Iowa does not appear to be immune to these rate hikes either.__"
   ]
  },
  {
   "cell_type": "markdown",
   "metadata": {},
   "source": [
    "# Further questions"
   ]
  },
  {
   "cell_type": "markdown",
   "metadata": {},
   "source": [
    "* Variability in rates: how often rates "
   ]
  }
 ],
 "metadata": {
  "kernelspec": {
   "display_name": "Python 3",
   "language": "python",
   "name": "python3"
  },
  "language_info": {
   "codemirror_mode": {
    "name": "ipython",
    "version": 3
   },
   "file_extension": ".py",
   "mimetype": "text/x-python",
   "name": "python",
   "nbconvert_exporter": "python",
   "pygments_lexer": "ipython3",
   "version": "3.5.2"
  }
 },
 "nbformat": 4,
 "nbformat_minor": 0
}
